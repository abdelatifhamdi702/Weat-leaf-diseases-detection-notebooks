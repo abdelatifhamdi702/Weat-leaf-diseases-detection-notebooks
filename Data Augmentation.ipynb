{
 "cells": [
  {
   "cell_type": "code",
   "execution_count": 1,
   "metadata": {
    "id": "hB9-xEa5jVxm"
   },
   "outputs": [],
   "source": [
    "import keras\n",
    "import tensorflow as tf\n",
    "# from google.colab import files\n",
    "from tensorflow.keras.preprocessing.image import load_img, img_to_array\n",
    "from tensorflow.keras.preprocessing.image import ImageDataGenerator\n",
    "import matplotlib.pyplot as plt\n",
    "import numpy as np\n",
    "import cv2\n",
    "import os"
   ]
  },
  {
   "cell_type": "code",
   "execution_count": 2,
   "metadata": {
    "id": "bH2xXHiemuwz"
   },
   "outputs": [],
   "source": [
    "datagen= ImageDataGenerator(\n",
    "    rotation_range = 40,\n",
    "    shear_range = 0.2,\n",
    "    zoom_range = 0.2,\n",
    "    horizontal_flip = True, \n",
    "    brightness_range = (0.5, 1.5))\n"
   ]
  },
  {
   "cell_type": "code",
   "execution_count": 3,
   "metadata": {
    "id": "OInHJ1lrh5-R"
   },
   "outputs": [],
   "source": [
    "# function of augmentation\n",
    "def augment(imag,datagen):\n",
    "  # loading images\n",
    "  #img = tf.keras.utils.load_img('/content/oladDjelal ‫(1)‬ ‫‬.jpg')\n",
    "  img = imag\n",
    "  \n",
    "  #just show the pictr\n",
    "  \"\"\"\n",
    "  img = img_to_array(img).astype(int)\n",
    "  data = np.expand_dims(img, 0)\n",
    "  plt.axis('off')\n",
    "  plt.imshow(data[0])\"\"\"\n",
    "\n",
    "  #converting images to array\n",
    "  x = img_to_array(img)\n",
    "  x = x.reshape((1, ) + x.shape)\n",
    "  i=0\n",
    "  print(imag.filename)\n",
    "  for batch in datagen.flow(x, batch_size = 1,save_to_dir = './Augmented_Dataset/Septoria', save_prefix = 'image' , save_format = 'jpeg'):\n",
    "    i+=1\n",
    "    if i > 5:\n",
    "      break"
   ]
  },
  {
   "cell_type": "code",
   "execution_count": 4,
   "metadata": {
    "id": "p5SICbuKERy5"
   },
   "outputs": [
    {
     "name": "stdout",
     "output_type": "stream",
     "text": [
      "\n",
      "\n",
      "\n",
      "\n",
      "\n",
      "\n",
      "\n",
      "\n",
      "\n",
      "\n",
      "\n",
      "\n",
      "\n",
      "\n",
      "\n",
      "\n",
      "\n",
      "\n",
      "\n",
      "\n",
      "\n",
      "\n",
      "\n",
      "\n",
      "\n",
      "\n",
      "\n",
      "\n",
      "\n",
      "\n",
      "\n",
      "\n",
      "\n",
      "\n",
      "\n",
      "\n",
      "\n",
      "\n",
      "\n",
      "\n",
      "\n",
      "\n",
      "\n",
      "\n",
      "\n",
      "\n",
      "\n",
      "\n",
      "\n",
      "\n",
      "\n",
      "\n",
      "\n",
      "\n",
      "\n",
      "\n",
      "\n",
      "\n",
      "\n",
      "\n",
      "\n",
      "\n",
      "\n",
      "\n",
      "\n",
      "\n",
      "\n",
      "\n",
      "\n",
      "\n",
      "\n",
      "\n",
      "\n",
      "\n",
      "\n",
      "\n",
      "\n",
      "\n",
      "\n",
      "\n",
      "\n",
      "\n",
      "\n",
      "\n",
      "\n",
      "\n",
      "\n",
      "\n",
      "\n",
      "\n",
      "\n",
      "\n",
      "\n",
      "\n",
      "\n",
      "\n",
      "\n"
     ]
    }
   ],
   "source": [
    "f='./wheat_leaf/Septoria'\n",
    "for filename in os.listdir(f): # geting all images in file 'f'\n",
    "    img = cv2.imread(os.path.join(f,filename))\n",
    "    if img is not None:\n",
    "      a = os.path.join(f,filename)\n",
    "      pict = tf.keras.utils.load_img(a) #pict = path of image\n",
    "      augment(pict,datagen)             # call function augment"
   ]
  }
 ],
 "metadata": {
  "colab": {
   "provenance": []
  },
  "kernelspec": {
   "display_name": "Python 3 (ipykernel)",
   "language": "python",
   "name": "python3"
  },
  "language_info": {
   "codemirror_mode": {
    "name": "ipython",
    "version": 3
   },
   "file_extension": ".py",
   "mimetype": "text/x-python",
   "name": "python",
   "nbconvert_exporter": "python",
   "pygments_lexer": "ipython3",
   "version": "3.9.16"
  }
 },
 "nbformat": 4,
 "nbformat_minor": 1
}
